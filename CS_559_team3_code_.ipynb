{
  "nbformat": 4,
  "nbformat_minor": 0,
  "metadata": {
    "colab": {
      "provenance": []
    },
    "kernelspec": {
      "name": "python3",
      "display_name": "Python 3"
    },
    "language_info": {
      "name": "python"
    },
    "accelerator": "GPU",
    "gpuClass": "premium"
  },
  "cells": [
    {
      "cell_type": "code",
      "execution_count": null,
      "metadata": {
        "id": "Z9oBUedRGeCb"
      },
      "outputs": [],
      "source": [
        "import pandas as pd\n",
        "import numpy as np"
      ]
    },
    {
      "cell_type": "code",
      "source": [
        "df_train=pd.read_csv('/content/train.csv')\n",
        "df_games=pd.read_csv('/content//games.csv')\n",
        "df_turns=pd.read_csv('/content/turns.csv')\n",
        "df_test=pd.read_csv('/content//test.csv')\n",
        "print(len(df_train),len(df_test),len(df_games),len(df_turns))\n",
        "print(len(df_train.game_id.unique()),len(df_test.game_id.unique()),len(df_games.game_id.unique()),len(df_turns.game_id.unique()))"
      ],
      "metadata": {
        "colab": {
          "base_uri": "https://localhost:8080/"
        },
        "id": "aORHS2_2Gj2W",
        "outputId": "478cab29-4424-4f30-b727-e95456277665"
      },
      "execution_count": null,
      "outputs": [
        {
          "output_type": "stream",
          "name": "stdout",
          "text": [
            "100820 44726 72773 2005498\n",
            "50410 22363 72773 72773\n"
          ]
        }
      ]
    },
    {
      "cell_type": "code",
      "source": [
        "df_train['has_won']=-1\n",
        "for ind in df_train.index:\n",
        "    if(ind%2==0):\n",
        "        if(df_train['score'][ind]>df_train['score'][ind+1]):\n",
        "            df_train['has_won'][ind]=1\n",
        "        else:\n",
        "            df_train['has_won'][ind]=0\n",
        "    else:\n",
        "        if(df_train['score'][ind]>df_train['score'][ind-1]):\n",
        "            df_train['has_won'][ind]=1\n",
        "        else:\n",
        "            df_train['has_won'][ind]=0"
      ],
      "metadata": {
        "colab": {
          "base_uri": "https://localhost:8080/"
        },
        "id": "GdlRg-bMHvZs",
        "outputId": "818a8f3a-0ffe-475c-d408-4dfbacd96e65"
      },
      "execution_count": null,
      "outputs": [
        {
          "output_type": "stream",
          "name": "stderr",
          "text": [
            "<ipython-input-19-9e7d04eca030>:7: SettingWithCopyWarning: \n",
            "A value is trying to be set on a copy of a slice from a DataFrame\n",
            "\n",
            "See the caveats in the documentation: https://pandas.pydata.org/pandas-docs/stable/user_guide/indexing.html#returning-a-view-versus-a-copy\n",
            "  df_train['has_won'][ind]=0\n",
            "<ipython-input-19-9e7d04eca030>:10: SettingWithCopyWarning: \n",
            "A value is trying to be set on a copy of a slice from a DataFrame\n",
            "\n",
            "See the caveats in the documentation: https://pandas.pydata.org/pandas-docs/stable/user_guide/indexing.html#returning-a-view-versus-a-copy\n",
            "  df_train['has_won'][ind]=1\n",
            "<ipython-input-19-9e7d04eca030>:5: SettingWithCopyWarning: \n",
            "A value is trying to be set on a copy of a slice from a DataFrame\n",
            "\n",
            "See the caveats in the documentation: https://pandas.pydata.org/pandas-docs/stable/user_guide/indexing.html#returning-a-view-versus-a-copy\n",
            "  df_train['has_won'][ind]=1\n",
            "<ipython-input-19-9e7d04eca030>:12: SettingWithCopyWarning: \n",
            "A value is trying to be set on a copy of a slice from a DataFrame\n",
            "\n",
            "See the caveats in the documentation: https://pandas.pydata.org/pandas-docs/stable/user_guide/indexing.html#returning-a-view-versus-a-copy\n",
            "  df_train['has_won'][ind]=0\n"
          ]
        }
      ]
    },
    {
      "cell_type": "code",
      "source": [
        "df_test['has_won']=-1\n",
        "for ind in df_test.index:\n",
        "    if(ind%2==0):\n",
        "        if(df_test['score'][ind]>df_test['score'][ind+1]):\n",
        "            df_test['has_won'][ind]=1\n",
        "        else:\n",
        "            df_test['has_won'][ind]=0\n",
        "    else:\n",
        "        if(df_test['score'][ind]>df_test['score'][ind-1]):\n",
        "            df_test['has_won'][ind]=1\n",
        "        else:\n",
        "            df_test['has_won'][ind]=0"
      ],
      "metadata": {
        "colab": {
          "base_uri": "https://localhost:8080/"
        },
        "id": "YpdHkqk2Hvjj",
        "outputId": "33ed4b1a-f5aa-4bb5-e103-74aea9c02a4c"
      },
      "execution_count": null,
      "outputs": [
        {
          "output_type": "stream",
          "name": "stderr",
          "text": [
            "<ipython-input-20-0bf4b459729b>:5: SettingWithCopyWarning: \n",
            "A value is trying to be set on a copy of a slice from a DataFrame\n",
            "\n",
            "See the caveats in the documentation: https://pandas.pydata.org/pandas-docs/stable/user_guide/indexing.html#returning-a-view-versus-a-copy\n",
            "  df_test['has_won'][ind]=1\n",
            "<ipython-input-20-0bf4b459729b>:12: SettingWithCopyWarning: \n",
            "A value is trying to be set on a copy of a slice from a DataFrame\n",
            "\n",
            "See the caveats in the documentation: https://pandas.pydata.org/pandas-docs/stable/user_guide/indexing.html#returning-a-view-versus-a-copy\n",
            "  df_test['has_won'][ind]=0\n",
            "<ipython-input-20-0bf4b459729b>:7: SettingWithCopyWarning: \n",
            "A value is trying to be set on a copy of a slice from a DataFrame\n",
            "\n",
            "See the caveats in the documentation: https://pandas.pydata.org/pandas-docs/stable/user_guide/indexing.html#returning-a-view-versus-a-copy\n",
            "  df_test['has_won'][ind]=0\n",
            "<ipython-input-20-0bf4b459729b>:10: SettingWithCopyWarning: \n",
            "A value is trying to be set on a copy of a slice from a DataFrame\n",
            "\n",
            "See the caveats in the documentation: https://pandas.pydata.org/pandas-docs/stable/user_guide/indexing.html#returning-a-view-versus-a-copy\n",
            "  df_test['has_won'][ind]=1\n"
          ]
        }
      ]
    },
    {
      "cell_type": "code",
      "source": [
        "def first(row):\n",
        "    if(row['nickname']==row['first']):\n",
        "        return 1\n",
        "    else:\n",
        "        return 0"
      ],
      "metadata": {
        "id": "Rgu351iMHvs7"
      },
      "execution_count": null,
      "outputs": []
    },
    {
      "cell_type": "code",
      "source": [
        "df_t=df_train.set_index('game_id').join(df_games.set_index('game_id'))\n",
        "df_t['has_begin'] = df_t.apply(lambda row: first(row), axis=1)\n",
        "df_t=df_t.drop(['winner','first'],axis=1)"
      ],
      "metadata": {
        "id": "7zHgOSUdH8rv"
      },
      "execution_count": null,
      "outputs": []
    },
    {
      "cell_type": "code",
      "source": [
        "df_tt=df_test.set_index('game_id').join(df_games.set_index('game_id'))\n",
        "df_tt['has_begin'] = df_tt.apply(lambda row: first(row), axis=1)\n",
        "df_tt=df_tt.drop(['winner','first'],axis=1)"
      ],
      "metadata": {
        "id": "S4nA6RPqH8lx"
      },
      "execution_count": null,
      "outputs": []
    },
    {
      "cell_type": "code",
      "source": [
        "#Dont execute \n",
        "#checkpoint saving for preprocessed data\n",
        "df_t.to_csv('train_final1.csv')\n",
        "df_tt.to_csv('test_final1.csv')"
      ],
      "metadata": {
        "id": "v4nxilrrH8aC"
      },
      "execution_count": null,
      "outputs": []
    },
    {
      "cell_type": "code",
      "source": [
        "features=df_turns[['game_id','nickname','points','turn_type']]\n",
        "features=features.dropna()\n",
        "features['keys']=features['game_id'].apply(str)\n",
        "features['keys']=features['keys']+'_'+features['nickname']\n",
        "dummies = pd.get_dummies(features.turn_type)\n",
        "features = pd.concat([features, dummies], axis='columns')\n",
        "features=features.drop(['turn_type'],axis=1)"
      ],
      "metadata": {
        "id": "YW761hEeISNh"
      },
      "execution_count": null,
      "outputs": []
    },
    {
      "cell_type": "code",
      "source": [
        "train_copy = features.groupby(['keys']).aggregate({'game_id':'max','nickname':'max','points': 'mean','Challenge' : 'sum','End' : 'sum', 'Exchange':'sum','Pass':'sum','Play':'sum','Six-Zero Rule':'sum','Timeout':'sum' })\n",
        "train_copy.reset_index(drop=True)\n",
        "train_copy.head(10)"
      ],
      "metadata": {
        "colab": {
          "base_uri": "https://localhost:8080/",
          "height": 493
        },
        "id": "id_6Bs2lIcLD",
        "outputId": "8f9526f5-1832-4d1a-cc1f-9ff0dca88a7f"
      },
      "execution_count": null,
      "outputs": [
        {
          "output_type": "execute_result",
          "data": {
            "text/plain": [
              "                  game_id    nickname     points  Challenge  End  Exchange  \\\n",
              "keys                                                                         \n",
              "10000_STEEBot       10000     STEEBot  27.400000          0    1         0   \n",
              "10000_barikayak     10000   barikayak  31.769231          0    0         0   \n",
              "10001_STEEBot       10001     STEEBot  33.153846          0    1         1   \n",
              "10001_marvin        10001      marvin  32.000000          0    0         0   \n",
              "10002_STEEBot       10002     STEEBot  35.294118          1    1         0   \n",
              "10002_hulkbuster    10002  hulkbuster  13.352941          0    0         2   \n",
              "10003_Anita         10003       Anita  19.250000          0    1         1   \n",
              "10003_STEEBot       10003     STEEBot  34.538462          0    0         0   \n",
              "10004_HastyBot      10004    HastyBot  37.181818          0    0         0   \n",
              "10004_runnerguy     10004   runnerguy  28.692308          0    1         1   \n",
              "\n",
              "                  Pass  Play  Six-Zero Rule  Timeout  \n",
              "keys                                                  \n",
              "10000_STEEBot        0    14              0        0  \n",
              "10000_barikayak      0    13              0        0  \n",
              "10001_STEEBot        0    11              0        0  \n",
              "10001_marvin         0    11              0        1  \n",
              "10002_STEEBot        0    15              0        0  \n",
              "10002_hulkbuster     0    15              0        0  \n",
              "10003_Anita          0    14              0        0  \n",
              "10003_STEEBot        0    13              0        0  \n",
              "10004_HastyBot       0    11              0        0  \n",
              "10004_runnerguy      0    11              0        0  "
            ],
            "text/html": [
              "\n",
              "  <div id=\"df-8df47417-6cc2-40b3-afe6-9ddedc62150c\">\n",
              "    <div class=\"colab-df-container\">\n",
              "      <div>\n",
              "<style scoped>\n",
              "    .dataframe tbody tr th:only-of-type {\n",
              "        vertical-align: middle;\n",
              "    }\n",
              "\n",
              "    .dataframe tbody tr th {\n",
              "        vertical-align: top;\n",
              "    }\n",
              "\n",
              "    .dataframe thead th {\n",
              "        text-align: right;\n",
              "    }\n",
              "</style>\n",
              "<table border=\"1\" class=\"dataframe\">\n",
              "  <thead>\n",
              "    <tr style=\"text-align: right;\">\n",
              "      <th></th>\n",
              "      <th>game_id</th>\n",
              "      <th>nickname</th>\n",
              "      <th>points</th>\n",
              "      <th>Challenge</th>\n",
              "      <th>End</th>\n",
              "      <th>Exchange</th>\n",
              "      <th>Pass</th>\n",
              "      <th>Play</th>\n",
              "      <th>Six-Zero Rule</th>\n",
              "      <th>Timeout</th>\n",
              "    </tr>\n",
              "    <tr>\n",
              "      <th>keys</th>\n",
              "      <th></th>\n",
              "      <th></th>\n",
              "      <th></th>\n",
              "      <th></th>\n",
              "      <th></th>\n",
              "      <th></th>\n",
              "      <th></th>\n",
              "      <th></th>\n",
              "      <th></th>\n",
              "      <th></th>\n",
              "    </tr>\n",
              "  </thead>\n",
              "  <tbody>\n",
              "    <tr>\n",
              "      <th>10000_STEEBot</th>\n",
              "      <td>10000</td>\n",
              "      <td>STEEBot</td>\n",
              "      <td>27.400000</td>\n",
              "      <td>0</td>\n",
              "      <td>1</td>\n",
              "      <td>0</td>\n",
              "      <td>0</td>\n",
              "      <td>14</td>\n",
              "      <td>0</td>\n",
              "      <td>0</td>\n",
              "    </tr>\n",
              "    <tr>\n",
              "      <th>10000_barikayak</th>\n",
              "      <td>10000</td>\n",
              "      <td>barikayak</td>\n",
              "      <td>31.769231</td>\n",
              "      <td>0</td>\n",
              "      <td>0</td>\n",
              "      <td>0</td>\n",
              "      <td>0</td>\n",
              "      <td>13</td>\n",
              "      <td>0</td>\n",
              "      <td>0</td>\n",
              "    </tr>\n",
              "    <tr>\n",
              "      <th>10001_STEEBot</th>\n",
              "      <td>10001</td>\n",
              "      <td>STEEBot</td>\n",
              "      <td>33.153846</td>\n",
              "      <td>0</td>\n",
              "      <td>1</td>\n",
              "      <td>1</td>\n",
              "      <td>0</td>\n",
              "      <td>11</td>\n",
              "      <td>0</td>\n",
              "      <td>0</td>\n",
              "    </tr>\n",
              "    <tr>\n",
              "      <th>10001_marvin</th>\n",
              "      <td>10001</td>\n",
              "      <td>marvin</td>\n",
              "      <td>32.000000</td>\n",
              "      <td>0</td>\n",
              "      <td>0</td>\n",
              "      <td>0</td>\n",
              "      <td>0</td>\n",
              "      <td>11</td>\n",
              "      <td>0</td>\n",
              "      <td>1</td>\n",
              "    </tr>\n",
              "    <tr>\n",
              "      <th>10002_STEEBot</th>\n",
              "      <td>10002</td>\n",
              "      <td>STEEBot</td>\n",
              "      <td>35.294118</td>\n",
              "      <td>1</td>\n",
              "      <td>1</td>\n",
              "      <td>0</td>\n",
              "      <td>0</td>\n",
              "      <td>15</td>\n",
              "      <td>0</td>\n",
              "      <td>0</td>\n",
              "    </tr>\n",
              "    <tr>\n",
              "      <th>10002_hulkbuster</th>\n",
              "      <td>10002</td>\n",
              "      <td>hulkbuster</td>\n",
              "      <td>13.352941</td>\n",
              "      <td>0</td>\n",
              "      <td>0</td>\n",
              "      <td>2</td>\n",
              "      <td>0</td>\n",
              "      <td>15</td>\n",
              "      <td>0</td>\n",
              "      <td>0</td>\n",
              "    </tr>\n",
              "    <tr>\n",
              "      <th>10003_Anita</th>\n",
              "      <td>10003</td>\n",
              "      <td>Anita</td>\n",
              "      <td>19.250000</td>\n",
              "      <td>0</td>\n",
              "      <td>1</td>\n",
              "      <td>1</td>\n",
              "      <td>0</td>\n",
              "      <td>14</td>\n",
              "      <td>0</td>\n",
              "      <td>0</td>\n",
              "    </tr>\n",
              "    <tr>\n",
              "      <th>10003_STEEBot</th>\n",
              "      <td>10003</td>\n",
              "      <td>STEEBot</td>\n",
              "      <td>34.538462</td>\n",
              "      <td>0</td>\n",
              "      <td>0</td>\n",
              "      <td>0</td>\n",
              "      <td>0</td>\n",
              "      <td>13</td>\n",
              "      <td>0</td>\n",
              "      <td>0</td>\n",
              "    </tr>\n",
              "    <tr>\n",
              "      <th>10004_HastyBot</th>\n",
              "      <td>10004</td>\n",
              "      <td>HastyBot</td>\n",
              "      <td>37.181818</td>\n",
              "      <td>0</td>\n",
              "      <td>0</td>\n",
              "      <td>0</td>\n",
              "      <td>0</td>\n",
              "      <td>11</td>\n",
              "      <td>0</td>\n",
              "      <td>0</td>\n",
              "    </tr>\n",
              "    <tr>\n",
              "      <th>10004_runnerguy</th>\n",
              "      <td>10004</td>\n",
              "      <td>runnerguy</td>\n",
              "      <td>28.692308</td>\n",
              "      <td>0</td>\n",
              "      <td>1</td>\n",
              "      <td>1</td>\n",
              "      <td>0</td>\n",
              "      <td>11</td>\n",
              "      <td>0</td>\n",
              "      <td>0</td>\n",
              "    </tr>\n",
              "  </tbody>\n",
              "</table>\n",
              "</div>\n",
              "      <button class=\"colab-df-convert\" onclick=\"convertToInteractive('df-8df47417-6cc2-40b3-afe6-9ddedc62150c')\"\n",
              "              title=\"Convert this dataframe to an interactive table.\"\n",
              "              style=\"display:none;\">\n",
              "        \n",
              "  <svg xmlns=\"http://www.w3.org/2000/svg\" height=\"24px\"viewBox=\"0 0 24 24\"\n",
              "       width=\"24px\">\n",
              "    <path d=\"M0 0h24v24H0V0z\" fill=\"none\"/>\n",
              "    <path d=\"M18.56 5.44l.94 2.06.94-2.06 2.06-.94-2.06-.94-.94-2.06-.94 2.06-2.06.94zm-11 1L8.5 8.5l.94-2.06 2.06-.94-2.06-.94L8.5 2.5l-.94 2.06-2.06.94zm10 10l.94 2.06.94-2.06 2.06-.94-2.06-.94-.94-2.06-.94 2.06-2.06.94z\"/><path d=\"M17.41 7.96l-1.37-1.37c-.4-.4-.92-.59-1.43-.59-.52 0-1.04.2-1.43.59L10.3 9.45l-7.72 7.72c-.78.78-.78 2.05 0 2.83L4 21.41c.39.39.9.59 1.41.59.51 0 1.02-.2 1.41-.59l7.78-7.78 2.81-2.81c.8-.78.8-2.07 0-2.86zM5.41 20L4 18.59l7.72-7.72 1.47 1.35L5.41 20z\"/>\n",
              "  </svg>\n",
              "      </button>\n",
              "      \n",
              "  <style>\n",
              "    .colab-df-container {\n",
              "      display:flex;\n",
              "      flex-wrap:wrap;\n",
              "      gap: 12px;\n",
              "    }\n",
              "\n",
              "    .colab-df-convert {\n",
              "      background-color: #E8F0FE;\n",
              "      border: none;\n",
              "      border-radius: 50%;\n",
              "      cursor: pointer;\n",
              "      display: none;\n",
              "      fill: #1967D2;\n",
              "      height: 32px;\n",
              "      padding: 0 0 0 0;\n",
              "      width: 32px;\n",
              "    }\n",
              "\n",
              "    .colab-df-convert:hover {\n",
              "      background-color: #E2EBFA;\n",
              "      box-shadow: 0px 1px 2px rgba(60, 64, 67, 0.3), 0px 1px 3px 1px rgba(60, 64, 67, 0.15);\n",
              "      fill: #174EA6;\n",
              "    }\n",
              "\n",
              "    [theme=dark] .colab-df-convert {\n",
              "      background-color: #3B4455;\n",
              "      fill: #D2E3FC;\n",
              "    }\n",
              "\n",
              "    [theme=dark] .colab-df-convert:hover {\n",
              "      background-color: #434B5C;\n",
              "      box-shadow: 0px 1px 3px 1px rgba(0, 0, 0, 0.15);\n",
              "      filter: drop-shadow(0px 1px 2px rgba(0, 0, 0, 0.3));\n",
              "      fill: #FFFFFF;\n",
              "    }\n",
              "  </style>\n",
              "\n",
              "      <script>\n",
              "        const buttonEl =\n",
              "          document.querySelector('#df-8df47417-6cc2-40b3-afe6-9ddedc62150c button.colab-df-convert');\n",
              "        buttonEl.style.display =\n",
              "          google.colab.kernel.accessAllowed ? 'block' : 'none';\n",
              "\n",
              "        async function convertToInteractive(key) {\n",
              "          const element = document.querySelector('#df-8df47417-6cc2-40b3-afe6-9ddedc62150c');\n",
              "          const dataTable =\n",
              "            await google.colab.kernel.invokeFunction('convertToInteractive',\n",
              "                                                     [key], {});\n",
              "          if (!dataTable) return;\n",
              "\n",
              "          const docLinkHtml = 'Like what you see? Visit the ' +\n",
              "            '<a target=\"_blank\" href=https://colab.research.google.com/notebooks/data_table.ipynb>data table notebook</a>'\n",
              "            + ' to learn more about interactive tables.';\n",
              "          element.innerHTML = '';\n",
              "          dataTable['output_type'] = 'display_data';\n",
              "          await google.colab.output.renderOutput(dataTable, element);\n",
              "          const docLink = document.createElement('div');\n",
              "          docLink.innerHTML = docLinkHtml;\n",
              "          element.appendChild(docLink);\n",
              "        }\n",
              "      </script>\n",
              "    </div>\n",
              "  </div>\n",
              "  "
            ]
          },
          "metadata": {},
          "execution_count": 40
        }
      ]
    },
    {
      "cell_type": "code",
      "source": [
        "df_t['rating_mode'].replace(['CASUAL', 'RATED'],[0, 1], inplace=True)\n",
        "dummies1 = pd.get_dummies(df_t.game_end_reason)\n",
        "df_t = pd.concat([df_t, dummies1], axis='columns')\n",
        "df_t=df_t.drop(['game_end_reason'],axis=1)\n",
        "dummies2 = pd.get_dummies(df_t.lexicon)\n",
        "df_t = pd.concat([df_t, dummies2], axis='columns')\n",
        "df_t=df_t.drop(['lexicon'],axis=1)\n",
        "df_t = pd.merge(df_t, train_copy, how='left',left_on=['game_id','nickname'],right_on=['game_id','nickname'])\n",
        "df_t['time_control_name'].replace(['regular', 'rapid', 'blitz', 'ultrablitz'],[0, 1,2,3], inplace=True)\n",
        "dummies3 = pd.get_dummies(df_t.time_control_name)\n",
        "df_t = pd.concat([df_t, dummies3], axis='columns')\n",
        "df_t=df_t.drop(['time_control_name','created_at'],axis=1)\n",
        "df_t"
      ],
      "metadata": {
        "id": "l8GOPBa6IhIS"
      },
      "execution_count": null,
      "outputs": []
    },
    {
      "cell_type": "code",
      "source": [
        "df_tt['rating_mode'].replace(['CASUAL', 'RATED'],[0, 1], inplace=True)\n",
        "dummies = pd.get_dummies(df_tt.game_end_reason)\n",
        "df_tt = pd.concat([df_tt, dummies], axis='columns')\n",
        "df_tt=df_tt.drop(['game_end_reason'],axis=1)\n",
        "dummies = pd.get_dummies(df_tt.lexicon)\n",
        "df_tt = pd.concat([df_tt, dummies], axis='columns')\n",
        "df_tt=df_tt.drop(['lexicon'],axis=1)\n",
        "\n",
        "df_tt = pd.merge(df_tt, train_copy, how='left',left_on=['game_id','nickname'],right_on=['game_id','nickname'])\n",
        "dummies = pd.get_dummies(df_tt.time_control_name)\n",
        "df_tt = pd.concat([df_tt, dummies], axis='columns')\n",
        "df_tt=df_tt.drop(['time_control_name','created_at'],axis=1)\n",
        "df_tt['NSWL20']=0\n",
        "df_tt=df_tt.reindex(columns=df_t.columns)\n",
        "df_tt\n"
      ],
      "metadata": {
        "colab": {
          "base_uri": "https://localhost:8080/",
          "height": 522
        },
        "id": "DEDMJ1DzIoZb",
        "outputId": "af43c102-6ace-4c68-8663-8440ad6c6522"
      },
      "execution_count": null,
      "outputs": [
        {
          "output_type": "execute_result",
          "data": {
            "text/plain": [
              "       game_id    nickname  score  rating  has_won  time_control_name  \\\n",
              "0            2       Super    488     NaN        1                  0   \n",
              "1            2   BetterBot    401  2000.0        0                  0   \n",
              "2            7     STEEBot    377  2082.0        0                  0   \n",
              "3            7      Priya1    379     NaN        1                  0   \n",
              "4           11     STEEBot    334  1829.0        0                  0   \n",
              "...        ...         ...    ...     ...      ...                ...   \n",
              "44721    72762   kyjo55555    367     NaN        1                  0   \n",
              "44722    72768    HastyBot    524  2356.0        1                  0   \n",
              "44723    72768  Maximilian    357     NaN        0                  0   \n",
              "44724    72769     STEEBot    626  2110.0        1                  2   \n",
              "44725    72769    browndav    384     NaN        0                  2   \n",
              "\n",
              "       lexicon  initial_time_seconds  increment_seconds  rating_mode  ...  \\\n",
              "0            1                  3600                  0            1  ...   \n",
              "1            1                  3600                  0            1  ...   \n",
              "2            1                  1260                  0            1  ...   \n",
              "3            1                  1260                  0            1  ...   \n",
              "4            0                  1200                  0            0  ...   \n",
              "...        ...                   ...                ...          ...  ...   \n",
              "44721        0                  3600                  0            0  ...   \n",
              "44722        1                  3600                  0            1  ...   \n",
              "44723        1                  3600                  0            1  ...   \n",
              "44724        1                   180                  0            1  ...   \n",
              "44725        1                   180                  0            1  ...   \n",
              "\n",
              "       STANDARD  TIME     points  Challenge  End  Exchange  Pass  Play  \\\n",
              "0             1     0  34.857143          0    1         1     1    11   \n",
              "1             1     0  33.416667          0    0         0     0    12   \n",
              "2             1     0  26.928571          0    1         0     0    13   \n",
              "3             1     0  29.153846          0    0         1     0    12   \n",
              "4             1     0  22.266667          0    1         1     0    13   \n",
              "...         ...   ...        ...        ...  ...       ...   ...   ...   \n",
              "44721         1     0  26.214286          0    0         1     0    13   \n",
              "44722         1     0  47.636364          0    0         0     0    11   \n",
              "44723         1     0  29.750000          0    1         0     0    11   \n",
              "44724         1     0  48.153846          0    0         0     0    13   \n",
              "44725         1     0  21.333333          0    1         2     0    14   \n",
              "\n",
              "       Six-Zero Rule  Timeout  \n",
              "0                  0        0  \n",
              "1                  0        0  \n",
              "2                  0        0  \n",
              "3                  0        0  \n",
              "4                  0        0  \n",
              "...              ...      ...  \n",
              "44721              0        0  \n",
              "44722              0        0  \n",
              "44723              0        0  \n",
              "44724              0        0  \n",
              "44725              0        1  \n",
              "\n",
              "[44726 rows x 25 columns]"
            ],
            "text/html": [
              "\n",
              "  <div id=\"df-c6ffbc7c-8b1e-422c-acb1-dbe3d7e8f8ef\">\n",
              "    <div class=\"colab-df-container\">\n",
              "      <div>\n",
              "<style scoped>\n",
              "    .dataframe tbody tr th:only-of-type {\n",
              "        vertical-align: middle;\n",
              "    }\n",
              "\n",
              "    .dataframe tbody tr th {\n",
              "        vertical-align: top;\n",
              "    }\n",
              "\n",
              "    .dataframe thead th {\n",
              "        text-align: right;\n",
              "    }\n",
              "</style>\n",
              "<table border=\"1\" class=\"dataframe\">\n",
              "  <thead>\n",
              "    <tr style=\"text-align: right;\">\n",
              "      <th></th>\n",
              "      <th>game_id</th>\n",
              "      <th>nickname</th>\n",
              "      <th>score</th>\n",
              "      <th>rating</th>\n",
              "      <th>has_won</th>\n",
              "      <th>time_control_name</th>\n",
              "      <th>lexicon</th>\n",
              "      <th>initial_time_seconds</th>\n",
              "      <th>increment_seconds</th>\n",
              "      <th>rating_mode</th>\n",
              "      <th>...</th>\n",
              "      <th>STANDARD</th>\n",
              "      <th>TIME</th>\n",
              "      <th>points</th>\n",
              "      <th>Challenge</th>\n",
              "      <th>End</th>\n",
              "      <th>Exchange</th>\n",
              "      <th>Pass</th>\n",
              "      <th>Play</th>\n",
              "      <th>Six-Zero Rule</th>\n",
              "      <th>Timeout</th>\n",
              "    </tr>\n",
              "  </thead>\n",
              "  <tbody>\n",
              "    <tr>\n",
              "      <th>0</th>\n",
              "      <td>2</td>\n",
              "      <td>Super</td>\n",
              "      <td>488</td>\n",
              "      <td>NaN</td>\n",
              "      <td>1</td>\n",
              "      <td>0</td>\n",
              "      <td>1</td>\n",
              "      <td>3600</td>\n",
              "      <td>0</td>\n",
              "      <td>1</td>\n",
              "      <td>...</td>\n",
              "      <td>1</td>\n",
              "      <td>0</td>\n",
              "      <td>34.857143</td>\n",
              "      <td>0</td>\n",
              "      <td>1</td>\n",
              "      <td>1</td>\n",
              "      <td>1</td>\n",
              "      <td>11</td>\n",
              "      <td>0</td>\n",
              "      <td>0</td>\n",
              "    </tr>\n",
              "    <tr>\n",
              "      <th>1</th>\n",
              "      <td>2</td>\n",
              "      <td>BetterBot</td>\n",
              "      <td>401</td>\n",
              "      <td>2000.0</td>\n",
              "      <td>0</td>\n",
              "      <td>0</td>\n",
              "      <td>1</td>\n",
              "      <td>3600</td>\n",
              "      <td>0</td>\n",
              "      <td>1</td>\n",
              "      <td>...</td>\n",
              "      <td>1</td>\n",
              "      <td>0</td>\n",
              "      <td>33.416667</td>\n",
              "      <td>0</td>\n",
              "      <td>0</td>\n",
              "      <td>0</td>\n",
              "      <td>0</td>\n",
              "      <td>12</td>\n",
              "      <td>0</td>\n",
              "      <td>0</td>\n",
              "    </tr>\n",
              "    <tr>\n",
              "      <th>2</th>\n",
              "      <td>7</td>\n",
              "      <td>STEEBot</td>\n",
              "      <td>377</td>\n",
              "      <td>2082.0</td>\n",
              "      <td>0</td>\n",
              "      <td>0</td>\n",
              "      <td>1</td>\n",
              "      <td>1260</td>\n",
              "      <td>0</td>\n",
              "      <td>1</td>\n",
              "      <td>...</td>\n",
              "      <td>1</td>\n",
              "      <td>0</td>\n",
              "      <td>26.928571</td>\n",
              "      <td>0</td>\n",
              "      <td>1</td>\n",
              "      <td>0</td>\n",
              "      <td>0</td>\n",
              "      <td>13</td>\n",
              "      <td>0</td>\n",
              "      <td>0</td>\n",
              "    </tr>\n",
              "    <tr>\n",
              "      <th>3</th>\n",
              "      <td>7</td>\n",
              "      <td>Priya1</td>\n",
              "      <td>379</td>\n",
              "      <td>NaN</td>\n",
              "      <td>1</td>\n",
              "      <td>0</td>\n",
              "      <td>1</td>\n",
              "      <td>1260</td>\n",
              "      <td>0</td>\n",
              "      <td>1</td>\n",
              "      <td>...</td>\n",
              "      <td>1</td>\n",
              "      <td>0</td>\n",
              "      <td>29.153846</td>\n",
              "      <td>0</td>\n",
              "      <td>0</td>\n",
              "      <td>1</td>\n",
              "      <td>0</td>\n",
              "      <td>12</td>\n",
              "      <td>0</td>\n",
              "      <td>0</td>\n",
              "    </tr>\n",
              "    <tr>\n",
              "      <th>4</th>\n",
              "      <td>11</td>\n",
              "      <td>STEEBot</td>\n",
              "      <td>334</td>\n",
              "      <td>1829.0</td>\n",
              "      <td>0</td>\n",
              "      <td>0</td>\n",
              "      <td>0</td>\n",
              "      <td>1200</td>\n",
              "      <td>0</td>\n",
              "      <td>0</td>\n",
              "      <td>...</td>\n",
              "      <td>1</td>\n",
              "      <td>0</td>\n",
              "      <td>22.266667</td>\n",
              "      <td>0</td>\n",
              "      <td>1</td>\n",
              "      <td>1</td>\n",
              "      <td>0</td>\n",
              "      <td>13</td>\n",
              "      <td>0</td>\n",
              "      <td>0</td>\n",
              "    </tr>\n",
              "    <tr>\n",
              "      <th>...</th>\n",
              "      <td>...</td>\n",
              "      <td>...</td>\n",
              "      <td>...</td>\n",
              "      <td>...</td>\n",
              "      <td>...</td>\n",
              "      <td>...</td>\n",
              "      <td>...</td>\n",
              "      <td>...</td>\n",
              "      <td>...</td>\n",
              "      <td>...</td>\n",
              "      <td>...</td>\n",
              "      <td>...</td>\n",
              "      <td>...</td>\n",
              "      <td>...</td>\n",
              "      <td>...</td>\n",
              "      <td>...</td>\n",
              "      <td>...</td>\n",
              "      <td>...</td>\n",
              "      <td>...</td>\n",
              "      <td>...</td>\n",
              "      <td>...</td>\n",
              "    </tr>\n",
              "    <tr>\n",
              "      <th>44721</th>\n",
              "      <td>72762</td>\n",
              "      <td>kyjo55555</td>\n",
              "      <td>367</td>\n",
              "      <td>NaN</td>\n",
              "      <td>1</td>\n",
              "      <td>0</td>\n",
              "      <td>0</td>\n",
              "      <td>3600</td>\n",
              "      <td>0</td>\n",
              "      <td>0</td>\n",
              "      <td>...</td>\n",
              "      <td>1</td>\n",
              "      <td>0</td>\n",
              "      <td>26.214286</td>\n",
              "      <td>0</td>\n",
              "      <td>0</td>\n",
              "      <td>1</td>\n",
              "      <td>0</td>\n",
              "      <td>13</td>\n",
              "      <td>0</td>\n",
              "      <td>0</td>\n",
              "    </tr>\n",
              "    <tr>\n",
              "      <th>44722</th>\n",
              "      <td>72768</td>\n",
              "      <td>HastyBot</td>\n",
              "      <td>524</td>\n",
              "      <td>2356.0</td>\n",
              "      <td>1</td>\n",
              "      <td>0</td>\n",
              "      <td>1</td>\n",
              "      <td>3600</td>\n",
              "      <td>0</td>\n",
              "      <td>1</td>\n",
              "      <td>...</td>\n",
              "      <td>1</td>\n",
              "      <td>0</td>\n",
              "      <td>47.636364</td>\n",
              "      <td>0</td>\n",
              "      <td>0</td>\n",
              "      <td>0</td>\n",
              "      <td>0</td>\n",
              "      <td>11</td>\n",
              "      <td>0</td>\n",
              "      <td>0</td>\n",
              "    </tr>\n",
              "    <tr>\n",
              "      <th>44723</th>\n",
              "      <td>72768</td>\n",
              "      <td>Maximilian</td>\n",
              "      <td>357</td>\n",
              "      <td>NaN</td>\n",
              "      <td>0</td>\n",
              "      <td>0</td>\n",
              "      <td>1</td>\n",
              "      <td>3600</td>\n",
              "      <td>0</td>\n",
              "      <td>1</td>\n",
              "      <td>...</td>\n",
              "      <td>1</td>\n",
              "      <td>0</td>\n",
              "      <td>29.750000</td>\n",
              "      <td>0</td>\n",
              "      <td>1</td>\n",
              "      <td>0</td>\n",
              "      <td>0</td>\n",
              "      <td>11</td>\n",
              "      <td>0</td>\n",
              "      <td>0</td>\n",
              "    </tr>\n",
              "    <tr>\n",
              "      <th>44724</th>\n",
              "      <td>72769</td>\n",
              "      <td>STEEBot</td>\n",
              "      <td>626</td>\n",
              "      <td>2110.0</td>\n",
              "      <td>1</td>\n",
              "      <td>2</td>\n",
              "      <td>1</td>\n",
              "      <td>180</td>\n",
              "      <td>0</td>\n",
              "      <td>1</td>\n",
              "      <td>...</td>\n",
              "      <td>1</td>\n",
              "      <td>0</td>\n",
              "      <td>48.153846</td>\n",
              "      <td>0</td>\n",
              "      <td>0</td>\n",
              "      <td>0</td>\n",
              "      <td>0</td>\n",
              "      <td>13</td>\n",
              "      <td>0</td>\n",
              "      <td>0</td>\n",
              "    </tr>\n",
              "    <tr>\n",
              "      <th>44725</th>\n",
              "      <td>72769</td>\n",
              "      <td>browndav</td>\n",
              "      <td>384</td>\n",
              "      <td>NaN</td>\n",
              "      <td>0</td>\n",
              "      <td>2</td>\n",
              "      <td>1</td>\n",
              "      <td>180</td>\n",
              "      <td>0</td>\n",
              "      <td>1</td>\n",
              "      <td>...</td>\n",
              "      <td>1</td>\n",
              "      <td>0</td>\n",
              "      <td>21.333333</td>\n",
              "      <td>0</td>\n",
              "      <td>1</td>\n",
              "      <td>2</td>\n",
              "      <td>0</td>\n",
              "      <td>14</td>\n",
              "      <td>0</td>\n",
              "      <td>1</td>\n",
              "    </tr>\n",
              "  </tbody>\n",
              "</table>\n",
              "<p>44726 rows × 25 columns</p>\n",
              "</div>\n",
              "      <button class=\"colab-df-convert\" onclick=\"convertToInteractive('df-c6ffbc7c-8b1e-422c-acb1-dbe3d7e8f8ef')\"\n",
              "              title=\"Convert this dataframe to an interactive table.\"\n",
              "              style=\"display:none;\">\n",
              "        \n",
              "  <svg xmlns=\"http://www.w3.org/2000/svg\" height=\"24px\"viewBox=\"0 0 24 24\"\n",
              "       width=\"24px\">\n",
              "    <path d=\"M0 0h24v24H0V0z\" fill=\"none\"/>\n",
              "    <path d=\"M18.56 5.44l.94 2.06.94-2.06 2.06-.94-2.06-.94-.94-2.06-.94 2.06-2.06.94zm-11 1L8.5 8.5l.94-2.06 2.06-.94-2.06-.94L8.5 2.5l-.94 2.06-2.06.94zm10 10l.94 2.06.94-2.06 2.06-.94-2.06-.94-.94-2.06-.94 2.06-2.06.94z\"/><path d=\"M17.41 7.96l-1.37-1.37c-.4-.4-.92-.59-1.43-.59-.52 0-1.04.2-1.43.59L10.3 9.45l-7.72 7.72c-.78.78-.78 2.05 0 2.83L4 21.41c.39.39.9.59 1.41.59.51 0 1.02-.2 1.41-.59l7.78-7.78 2.81-2.81c.8-.78.8-2.07 0-2.86zM5.41 20L4 18.59l7.72-7.72 1.47 1.35L5.41 20z\"/>\n",
              "  </svg>\n",
              "      </button>\n",
              "      \n",
              "  <style>\n",
              "    .colab-df-container {\n",
              "      display:flex;\n",
              "      flex-wrap:wrap;\n",
              "      gap: 12px;\n",
              "    }\n",
              "\n",
              "    .colab-df-convert {\n",
              "      background-color: #E8F0FE;\n",
              "      border: none;\n",
              "      border-radius: 50%;\n",
              "      cursor: pointer;\n",
              "      display: none;\n",
              "      fill: #1967D2;\n",
              "      height: 32px;\n",
              "      padding: 0 0 0 0;\n",
              "      width: 32px;\n",
              "    }\n",
              "\n",
              "    .colab-df-convert:hover {\n",
              "      background-color: #E2EBFA;\n",
              "      box-shadow: 0px 1px 2px rgba(60, 64, 67, 0.3), 0px 1px 3px 1px rgba(60, 64, 67, 0.15);\n",
              "      fill: #174EA6;\n",
              "    }\n",
              "\n",
              "    [theme=dark] .colab-df-convert {\n",
              "      background-color: #3B4455;\n",
              "      fill: #D2E3FC;\n",
              "    }\n",
              "\n",
              "    [theme=dark] .colab-df-convert:hover {\n",
              "      background-color: #434B5C;\n",
              "      box-shadow: 0px 1px 3px 1px rgba(0, 0, 0, 0.15);\n",
              "      filter: drop-shadow(0px 1px 2px rgba(0, 0, 0, 0.3));\n",
              "      fill: #FFFFFF;\n",
              "    }\n",
              "  </style>\n",
              "\n",
              "      <script>\n",
              "        const buttonEl =\n",
              "          document.querySelector('#df-c6ffbc7c-8b1e-422c-acb1-dbe3d7e8f8ef button.colab-df-convert');\n",
              "        buttonEl.style.display =\n",
              "          google.colab.kernel.accessAllowed ? 'block' : 'none';\n",
              "\n",
              "        async function convertToInteractive(key) {\n",
              "          const element = document.querySelector('#df-c6ffbc7c-8b1e-422c-acb1-dbe3d7e8f8ef');\n",
              "          const dataTable =\n",
              "            await google.colab.kernel.invokeFunction('convertToInteractive',\n",
              "                                                     [key], {});\n",
              "          if (!dataTable) return;\n",
              "\n",
              "          const docLinkHtml = 'Like what you see? Visit the ' +\n",
              "            '<a target=\"_blank\" href=https://colab.research.google.com/notebooks/data_table.ipynb>data table notebook</a>'\n",
              "            + ' to learn more about interactive tables.';\n",
              "          element.innerHTML = '';\n",
              "          dataTable['output_type'] = 'display_data';\n",
              "          await google.colab.output.renderOutput(dataTable, element);\n",
              "          const docLink = document.createElement('div');\n",
              "          docLink.innerHTML = docLinkHtml;\n",
              "          element.appendChild(docLink);\n",
              "        }\n",
              "      </script>\n",
              "    </div>\n",
              "  </div>\n",
              "  "
            ]
          },
          "metadata": {},
          "execution_count": 28
        }
      ]
    },
    {
      "cell_type": "code",
      "source": [
        "df_tt1=df_tt.dropna()\n",
        "df_tt2=df_tt[df_tt.isna().any(axis=1)]"
      ],
      "metadata": {
        "id": "HFgf6LrhJIeI"
      },
      "execution_count": null,
      "outputs": []
    },
    {
      "cell_type": "code",
      "source": [
        "\n",
        "y=df_t['rating']\n",
        "x=df_t.drop(['rating','game_id','nickname','initial_time_seconds', 'increment_seconds'],axis=1)\n",
        "y_test=df_tt1['rating']\n",
        "x_test=df_tt1.drop(['rating','game_id','nickname','initial_time_seconds', 'increment_seconds'],axis=1)"
      ],
      "metadata": {
        "id": "YuNNX4pqJIaO"
      },
      "execution_count": null,
      "outputs": []
    },
    {
      "cell_type": "code",
      "source": [
        "x.columns"
      ],
      "metadata": {
        "colab": {
          "base_uri": "https://localhost:8080/"
        },
        "id": "PbLG1H2ivQ55",
        "outputId": "d0c67903-49f8-46d3-fa9f-ade61de4bd30"
      },
      "execution_count": null,
      "outputs": [
        {
          "output_type": "execute_result",
          "data": {
            "text/plain": [
              "Index(['score', 'has_won', 'rating_mode', 'max_overtime_minutes',\n",
              "       'game_duration_seconds', 'has_begin', 'CONSECUTIVE_ZEROES', 'RESIGNED',\n",
              "       'STANDARD', 'TIME', 'CSW21', 'ECWL', 'NSWL20', 'NWL20', 'points',\n",
              "       'Challenge', 'End', 'Exchange', 'Pass', 'Play', 'Six-Zero Rule',\n",
              "       'Timeout', 'blitz', 'rapid', 'regular', 'ultrablitz'],\n",
              "      dtype='object')"
            ]
          },
          "metadata": {},
          "execution_count": 71
        }
      ]
    },
    {
      "cell_type": "code",
      "source": [
        "np.all(np.isfinite(x))"
      ],
      "metadata": {
        "colab": {
          "base_uri": "https://localhost:8080/"
        },
        "id": "Ks0R99WYKgs6",
        "outputId": "f432d6c4-3b1f-43a9-f264-413348be6f95"
      },
      "execution_count": null,
      "outputs": [
        {
          "output_type": "execute_result",
          "data": {
            "text/plain": [
              "True"
            ]
          },
          "metadata": {},
          "execution_count": 31
        }
      ]
    },
    {
      "cell_type": "code",
      "source": [
        "from sklearn.preprocessing import StandardScaler\n",
        "scaler = StandardScaler()\n",
        "cols=x.columns\n",
        "x1=pd.DataFrame(scaler.fit_transform(x),columns=cols)\n",
        "x_test1=pd.DataFrame(scaler.transform(x_test),columns=cols)"
      ],
      "metadata": {
        "id": "MeorVenFJIPD"
      },
      "execution_count": null,
      "outputs": []
    },
    {
      "cell_type": "code",
      "source": [
        "np.all(np.isfinite(x1))"
      ],
      "metadata": {
        "colab": {
          "base_uri": "https://localhost:8080/"
        },
        "id": "CBjIV7cqKfaS",
        "outputId": "d2085938-2018-4058-f5b4-500fa73fb737"
      },
      "execution_count": null,
      "outputs": [
        {
          "output_type": "execute_result",
          "data": {
            "text/plain": [
              "True"
            ]
          },
          "metadata": {},
          "execution_count": 15
        }
      ]
    },
    {
      "cell_type": "code",
      "source": [
        "np.all(np.isfinite(y))"
      ],
      "metadata": {
        "id": "UhhXd-dJOwDd",
        "outputId": "4e1674b0-7bfa-46ae-c6cc-5e6521144c25",
        "colab": {
          "base_uri": "https://localhost:8080/"
        }
      },
      "execution_count": null,
      "outputs": [
        {
          "output_type": "execute_result",
          "data": {
            "text/plain": [
              "True"
            ]
          },
          "metadata": {},
          "execution_count": 21
        }
      ]
    },
    {
      "cell_type": "code",
      "source": [
        "from sklearn.metrics import mean_squared_error"
      ],
      "metadata": {
        "id": "n50tjb1dxypX"
      },
      "execution_count": null,
      "outputs": []
    },
    {
      "cell_type": "code",
      "source": [
        "from sklearn.ensemble import RandomForestClassifier\n",
        "clf = RandomForestClassifier(n_estimators = 30)\n",
        "clf.fit(x1, y)\n",
        "y_pred_train_bot_random_forest = clf.predict(x1)\n",
        "rmse_train_bot_randomforest=mean_squared_error(y,y_pred_train_bot_random_forest,squared=False)\n",
        "print(\"RMSE of train data for using random forest is : \",rmse_train_bot_randomforest )"
      ],
      "metadata": {
        "colab": {
          "base_uri": "https://localhost:8080/"
        },
        "id": "23qo2dGQJfFv",
        "outputId": "9b767523-6597-4602-ce4e-30ce328186c6"
      },
      "execution_count": null,
      "outputs": [
        {
          "output_type": "stream",
          "name": "stdout",
          "text": [
            "RMSE of train data for using random forest is :  3.7275679663636376\n"
          ]
        }
      ]
    },
    {
      "cell_type": "code",
      "source": [
        "y_pred = clf.predict(x_test1)\n",
        "rmse_test=mean_squared_error(y_test,y_pred,squared=False)\n",
        "print(\"RMSE of test data for using random forest is : \",rmse_test )"
      ],
      "metadata": {
        "id": "Nl4ZsHN4Ji9s",
        "colab": {
          "base_uri": "https://localhost:8080/"
        },
        "outputId": "8efb047f-f089-4baa-802e-3e36692b9cd5"
      },
      "execution_count": null,
      "outputs": [
        {
          "output_type": "stream",
          "name": "stdout",
          "text": [
            "RMSE of test data for using random forest is :  185.83130384156743\n"
          ]
        }
      ]
    },
    {
      "cell_type": "code",
      "source": [
        "from sklearn.linear_model import LinearRegression\n",
        "reg = LinearRegression().fit(x1, y)\n",
        "y_pred_reg=reg.predict(x1)\n",
        "print(\"RMSE of train data for using random forest is : \",mean_squared_error(y,y_pred_reg,squared=False) )"
      ],
      "metadata": {
        "colab": {
          "base_uri": "https://localhost:8080/"
        },
        "id": "235BEbp1vov1",
        "outputId": "e43ac80d-70bd-4467-f13e-51bc6a4de7fe"
      },
      "execution_count": null,
      "outputs": [
        {
          "output_type": "stream",
          "name": "stdout",
          "text": [
            "RMSE of train data for using random forest is :  138.7164191810331\n"
          ]
        }
      ]
    },
    {
      "cell_type": "code",
      "source": [
        "y_pred_reg1=reg.predict(x_test1)\n",
        "print(\"RMSE of train data for using random forest is : \",mean_squared_error(y_test,y_pred_reg1,squared=False) )"
      ],
      "metadata": {
        "colab": {
          "base_uri": "https://localhost:8080/"
        },
        "id": "i1CmTYHW2W4q",
        "outputId": "88588593-b578-4a00-99d5-96b4307a53f4"
      },
      "execution_count": null,
      "outputs": [
        {
          "output_type": "stream",
          "name": "stdout",
          "text": [
            "RMSE of train data for using random forest is :  129.07583149671606\n"
          ]
        }
      ]
    },
    {
      "cell_type": "code",
      "source": [
        "from sklearn.neural_network import MLPRegressor\n",
        "mlp_reg = MLPRegressor(hidden_layer_sizes=(200,100,50),\n",
        "                       max_iter = 200,activation = 'relu',\n",
        "                       solver = 'adam')\n",
        "\n",
        "mlp_reg.fit(x1,y)\n",
        "preds= mlp_reg.predict(x_test1)\n",
        "realVals=y_test\n",
        "rmse_test=mean_squared_error(realVals, preds,squared=False)\n",
        "print(\"RMSE of test data : \",rmse_test)"
      ],
      "metadata": {
        "colab": {
          "base_uri": "https://localhost:8080/"
        },
        "id": "-L2baBdd1zYT",
        "outputId": "749d8f0c-e26b-45dd-8cc0-8165e78ce39a"
      },
      "execution_count": null,
      "outputs": [
        {
          "output_type": "stream",
          "name": "stdout",
          "text": [
            "RMSE of test data :  131.3812068150747\n"
          ]
        }
      ]
    },
    {
      "cell_type": "code",
      "source": [
        "y_pred_nn=mlp_reg.predict(x1)\n",
        "print(\"RMSE train data:\",mean_squared_error(y,y_pred_nn,squared=False))"
      ],
      "metadata": {
        "colab": {
          "base_uri": "https://localhost:8080/"
        },
        "id": "HIMLZ1yc9DpU",
        "outputId": "263a1652-b89e-4c6e-d85c-cecee3855b08"
      },
      "execution_count": null,
      "outputs": [
        {
          "output_type": "stream",
          "name": "stdout",
          "text": [
            "RMSE train data: 122.72423744986038\n"
          ]
        }
      ]
    },
    {
      "cell_type": "code",
      "source": [
        "from sklearn.linear_model import BayesianRidge\n",
        "reglog = BayesianRidge().fit(x1, y)"
      ],
      "metadata": {
        "id": "m4tLFw68BZ6o"
      },
      "execution_count": null,
      "outputs": []
    },
    {
      "cell_type": "code",
      "source": [
        "y_pred_bas=reglog.predict(x1)\n",
        "print(\"RMSE train data:\",mean_squared_error(y,y_pred_bas,squared=False))"
      ],
      "metadata": {
        "colab": {
          "base_uri": "https://localhost:8080/"
        },
        "id": "kyBGtXFlDEIo",
        "outputId": "4f1ef2d7-fab1-4202-b0aa-c7a32735e48b"
      },
      "execution_count": null,
      "outputs": [
        {
          "output_type": "stream",
          "name": "stdout",
          "text": [
            "RMSE train data: 138.71565114345663\n"
          ]
        }
      ]
    },
    {
      "cell_type": "code",
      "source": [
        "y_pred_bas"
      ],
      "metadata": {
        "colab": {
          "base_uri": "https://localhost:8080/"
        },
        "id": "3oQNwzc8FDCT",
        "outputId": "61e7e2ba-4bbe-46f8-a7af-a58ef0ff2a23"
      },
      "execution_count": null,
      "outputs": [
        {
          "output_type": "execute_result",
          "data": {
            "text/plain": [
              "array([1654.44684728, 1766.85462015, 2057.39242179, ..., 1742.99918261,\n",
              "       2001.35740046, 1973.09468973])"
            ]
          },
          "metadata": {},
          "execution_count": 36
        }
      ]
    },
    {
      "cell_type": "code",
      "source": [
        "from sklearn.tree import DecisionTreeRegressor\n",
        "reg_tree = DecisionTreeRegressor(min_impurity_decrease=2.0,random_state=0).fit(x1,y)\n",
        "y_pred_dec=reg_tree.predict(x1)\n",
        "print(\"RMSE train data:\",mean_squared_error(y,y_pred_dec,squared=False))"
      ],
      "metadata": {
        "colab": {
          "base_uri": "https://localhost:8080/"
        },
        "id": "dqi1ZsmavjXN",
        "outputId": "feec381b-554a-4a43-8c98-36fab156b995"
      },
      "execution_count": null,
      "outputs": [
        {
          "output_type": "stream",
          "name": "stdout",
          "text": [
            "RMSE train data: 122.24533514138938\n"
          ]
        }
      ]
    },
    {
      "cell_type": "code",
      "source": [
        "y_pred_dec1=reg_tree.predict(x_test1)\n",
        "print(\"RMSE train data:\",mean_squared_error(y_test,y_pred_dec1,squared=False))"
      ],
      "metadata": {
        "colab": {
          "base_uri": "https://localhost:8080/"
        },
        "id": "Qywqdct-vx4c",
        "outputId": "56d4afcd-df22-4b54-cf5b-e4acae65991d"
      },
      "execution_count": null,
      "outputs": [
        {
          "output_type": "stream",
          "name": "stdout",
          "text": [
            "RMSE train data: 126.26443876028988\n"
          ]
        }
      ]
    },
    {
      "cell_type": "code",
      "source": [
        "import xgboost as xgb\n",
        "xg_reg = xgb.XGBRegressor(objective ='reg:squarederror', colsample_bytree = 0.3, learning_rate = 0.1,\n",
        "                max_depth = 5, alpha = 10, n_estimators = 80)\n",
        "xg_reg.fit(x1,y)\n",
        "y_pred_xgb = xg_reg.predict(x1)\n",
        "rmse_test=mean_squared_error(y,y_pred_xgb,squared=False)\n",
        "print(\"RMSE of train data : \",rmse_test)"
      ],
      "metadata": {
        "colab": {
          "base_uri": "https://localhost:8080/"
        },
        "id": "8LTaBX8ilmQf",
        "outputId": "8e9688a4-0bd8-426c-f4cb-62c6f388a505"
      },
      "execution_count": null,
      "outputs": [
        {
          "output_type": "stream",
          "name": "stdout",
          "text": [
            "RMSE of train data :  127.01683203326021\n"
          ]
        }
      ]
    },
    {
      "cell_type": "code",
      "source": [
        "df_stack=pd.DataFrame()\n",
        "df_stack['reg']=y_pred_reg.tolist()\n",
        "df_stack['bas']=y_pred_bas.tolist()\n",
        "df_stack['nn']=y_pred_nn.tolist()\n",
        "df_stack['xgb']=y_pred_xgb.tolist()\n",
        "df_stack['dec']=y_pred_dec.tolist()"
      ],
      "metadata": {
        "id": "Ju73xg98FQ6s"
      },
      "execution_count": null,
      "outputs": []
    },
    {
      "cell_type": "code",
      "source": [
        "stack_reg=LinearRegression().fit(df_stack,y)\n",
        "y_stack_pred=stack_reg.predict(df_stack)\n",
        "print(\"RMSE train data:\",mean_squared_error(y,y_stack_pred,squared=False))"
      ],
      "metadata": {
        "colab": {
          "base_uri": "https://localhost:8080/"
        },
        "id": "12sWNVQeHDbq",
        "outputId": "2f7667bc-fc0d-4c38-bf83-16ab32ef104c"
      },
      "execution_count": null,
      "outputs": [
        {
          "output_type": "stream",
          "name": "stdout",
          "text": [
            "RMSE train data: 119.43964571656188\n"
          ]
        }
      ]
    },
    {
      "cell_type": "code",
      "source": [
        "df_stack_test=pd.DataFrame()\n",
        "df_stack_test['reg']=y_pred_reg1.tolist()\n",
        "df_stack_test['bas']=reglog.predict(x_test1).tolist()\n",
        "df_stack_test['nn']=preds.tolist()\n",
        "df_stack_test['xgb']=xg_reg.predict(x_test1).tolist()\n",
        "df_stack_test['dec']=y_pred_dec1.tolist()\n",
        "y_stack_pred1=stack_reg.predict(df_stack_test)\n",
        "print(\"RMSE train data:\",mean_squared_error(y_test,y_stack_pred1,squared=False))"
      ],
      "metadata": {
        "colab": {
          "base_uri": "https://localhost:8080/"
        },
        "id": "7Wsp3ziHHpQb",
        "outputId": "ad57a8a2-5fe5-4cab-fdf0-7df63ebd7d58"
      },
      "execution_count": null,
      "outputs": [
        {
          "output_type": "stream",
          "name": "stdout",
          "text": [
            "RMSE train data: 127.5803107255438\n"
          ]
        }
      ]
    },
    {
      "cell_type": "code",
      "source": [
        "\n",
        "x_human=df_tt2.drop(['rating','game_id','nickname','initial_time_seconds', 'increment_seconds'],axis=1)\n",
        "x_human1=pd.DataFrame(scaler.transform(x_human),columns=cols)"
      ],
      "metadata": {
        "id": "kJpq_MU1Lpq6"
      },
      "execution_count": null,
      "outputs": []
    },
    {
      "cell_type": "code",
      "source": [
        "df_stack_human=pd.DataFrame()\n",
        "df_stack_human['reg']=reg.predict(x_human1).tolist()\n",
        "df_stack_human['bas']=reglog.predict(x_human1).tolist()\n",
        "df_stack_human['nn']=mlp_reg.predict(x_human1).tolist()\n",
        "df_stack_human['xgb']=xg_reg.predict(x_human1).tolist()\n",
        "df_stack_human['dec']=reg_tree.predict(x_human1).tolist()\n",
        "y_stack_human=stack_reg.predict(df_stack_human)"
      ],
      "metadata": {
        "id": "UBvH8ol3LE5n"
      },
      "execution_count": null,
      "outputs": []
    },
    {
      "cell_type": "code",
      "source": [
        "df_sub=pd.DataFrame(columns=['game_id','rating'])\n",
        "df_sub['game_id']=df_tt2['game_id']\n",
        "df_sub['rating']=reg_tree.predict(x_human1).tolist()"
      ],
      "metadata": {
        "id": "pdqMO-HqNSO6"
      },
      "execution_count": null,
      "outputs": []
    },
    {
      "cell_type": "code",
      "source": [
        "df_sub"
      ],
      "metadata": {
        "colab": {
          "base_uri": "https://localhost:8080/",
          "height": 424
        },
        "id": "5ZRRN61GOtWw",
        "outputId": "e9ce0153-c148-4dc5-c074-106ad2a8161b"
      },
      "execution_count": null,
      "outputs": [
        {
          "output_type": "execute_result",
          "data": {
            "text/plain": [
              "       game_id       rating\n",
              "0            2  2049.571256\n",
              "3            7  1985.734875\n",
              "5           11  1698.030872\n",
              "7           14  1995.210209\n",
              "8           27  2100.288639\n",
              "...        ...          ...\n",
              "44717    72760  2069.732249\n",
              "44718    72761  1845.080070\n",
              "44721    72762  1646.015214\n",
              "44723    72768  2095.406095\n",
              "44725    72769  1903.052421\n",
              "\n",
              "[22363 rows x 2 columns]"
            ],
            "text/html": [
              "\n",
              "  <div id=\"df-d24b8b54-8af2-48a9-b229-bd13618a702b\">\n",
              "    <div class=\"colab-df-container\">\n",
              "      <div>\n",
              "<style scoped>\n",
              "    .dataframe tbody tr th:only-of-type {\n",
              "        vertical-align: middle;\n",
              "    }\n",
              "\n",
              "    .dataframe tbody tr th {\n",
              "        vertical-align: top;\n",
              "    }\n",
              "\n",
              "    .dataframe thead th {\n",
              "        text-align: right;\n",
              "    }\n",
              "</style>\n",
              "<table border=\"1\" class=\"dataframe\">\n",
              "  <thead>\n",
              "    <tr style=\"text-align: right;\">\n",
              "      <th></th>\n",
              "      <th>game_id</th>\n",
              "      <th>rating</th>\n",
              "    </tr>\n",
              "  </thead>\n",
              "  <tbody>\n",
              "    <tr>\n",
              "      <th>0</th>\n",
              "      <td>2</td>\n",
              "      <td>2049.571256</td>\n",
              "    </tr>\n",
              "    <tr>\n",
              "      <th>3</th>\n",
              "      <td>7</td>\n",
              "      <td>1985.734875</td>\n",
              "    </tr>\n",
              "    <tr>\n",
              "      <th>5</th>\n",
              "      <td>11</td>\n",
              "      <td>1698.030872</td>\n",
              "    </tr>\n",
              "    <tr>\n",
              "      <th>7</th>\n",
              "      <td>14</td>\n",
              "      <td>1995.210209</td>\n",
              "    </tr>\n",
              "    <tr>\n",
              "      <th>8</th>\n",
              "      <td>27</td>\n",
              "      <td>2100.288639</td>\n",
              "    </tr>\n",
              "    <tr>\n",
              "      <th>...</th>\n",
              "      <td>...</td>\n",
              "      <td>...</td>\n",
              "    </tr>\n",
              "    <tr>\n",
              "      <th>44717</th>\n",
              "      <td>72760</td>\n",
              "      <td>2069.732249</td>\n",
              "    </tr>\n",
              "    <tr>\n",
              "      <th>44718</th>\n",
              "      <td>72761</td>\n",
              "      <td>1845.080070</td>\n",
              "    </tr>\n",
              "    <tr>\n",
              "      <th>44721</th>\n",
              "      <td>72762</td>\n",
              "      <td>1646.015214</td>\n",
              "    </tr>\n",
              "    <tr>\n",
              "      <th>44723</th>\n",
              "      <td>72768</td>\n",
              "      <td>2095.406095</td>\n",
              "    </tr>\n",
              "    <tr>\n",
              "      <th>44725</th>\n",
              "      <td>72769</td>\n",
              "      <td>1903.052421</td>\n",
              "    </tr>\n",
              "  </tbody>\n",
              "</table>\n",
              "<p>22363 rows × 2 columns</p>\n",
              "</div>\n",
              "      <button class=\"colab-df-convert\" onclick=\"convertToInteractive('df-d24b8b54-8af2-48a9-b229-bd13618a702b')\"\n",
              "              title=\"Convert this dataframe to an interactive table.\"\n",
              "              style=\"display:none;\">\n",
              "        \n",
              "  <svg xmlns=\"http://www.w3.org/2000/svg\" height=\"24px\"viewBox=\"0 0 24 24\"\n",
              "       width=\"24px\">\n",
              "    <path d=\"M0 0h24v24H0V0z\" fill=\"none\"/>\n",
              "    <path d=\"M18.56 5.44l.94 2.06.94-2.06 2.06-.94-2.06-.94-.94-2.06-.94 2.06-2.06.94zm-11 1L8.5 8.5l.94-2.06 2.06-.94-2.06-.94L8.5 2.5l-.94 2.06-2.06.94zm10 10l.94 2.06.94-2.06 2.06-.94-2.06-.94-.94-2.06-.94 2.06-2.06.94z\"/><path d=\"M17.41 7.96l-1.37-1.37c-.4-.4-.92-.59-1.43-.59-.52 0-1.04.2-1.43.59L10.3 9.45l-7.72 7.72c-.78.78-.78 2.05 0 2.83L4 21.41c.39.39.9.59 1.41.59.51 0 1.02-.2 1.41-.59l7.78-7.78 2.81-2.81c.8-.78.8-2.07 0-2.86zM5.41 20L4 18.59l7.72-7.72 1.47 1.35L5.41 20z\"/>\n",
              "  </svg>\n",
              "      </button>\n",
              "      \n",
              "  <style>\n",
              "    .colab-df-container {\n",
              "      display:flex;\n",
              "      flex-wrap:wrap;\n",
              "      gap: 12px;\n",
              "    }\n",
              "\n",
              "    .colab-df-convert {\n",
              "      background-color: #E8F0FE;\n",
              "      border: none;\n",
              "      border-radius: 50%;\n",
              "      cursor: pointer;\n",
              "      display: none;\n",
              "      fill: #1967D2;\n",
              "      height: 32px;\n",
              "      padding: 0 0 0 0;\n",
              "      width: 32px;\n",
              "    }\n",
              "\n",
              "    .colab-df-convert:hover {\n",
              "      background-color: #E2EBFA;\n",
              "      box-shadow: 0px 1px 2px rgba(60, 64, 67, 0.3), 0px 1px 3px 1px rgba(60, 64, 67, 0.15);\n",
              "      fill: #174EA6;\n",
              "    }\n",
              "\n",
              "    [theme=dark] .colab-df-convert {\n",
              "      background-color: #3B4455;\n",
              "      fill: #D2E3FC;\n",
              "    }\n",
              "\n",
              "    [theme=dark] .colab-df-convert:hover {\n",
              "      background-color: #434B5C;\n",
              "      box-shadow: 0px 1px 3px 1px rgba(0, 0, 0, 0.15);\n",
              "      filter: drop-shadow(0px 1px 2px rgba(0, 0, 0, 0.3));\n",
              "      fill: #FFFFFF;\n",
              "    }\n",
              "  </style>\n",
              "\n",
              "      <script>\n",
              "        const buttonEl =\n",
              "          document.querySelector('#df-d24b8b54-8af2-48a9-b229-bd13618a702b button.colab-df-convert');\n",
              "        buttonEl.style.display =\n",
              "          google.colab.kernel.accessAllowed ? 'block' : 'none';\n",
              "\n",
              "        async function convertToInteractive(key) {\n",
              "          const element = document.querySelector('#df-d24b8b54-8af2-48a9-b229-bd13618a702b');\n",
              "          const dataTable =\n",
              "            await google.colab.kernel.invokeFunction('convertToInteractive',\n",
              "                                                     [key], {});\n",
              "          if (!dataTable) return;\n",
              "\n",
              "          const docLinkHtml = 'Like what you see? Visit the ' +\n",
              "            '<a target=\"_blank\" href=https://colab.research.google.com/notebooks/data_table.ipynb>data table notebook</a>'\n",
              "            + ' to learn more about interactive tables.';\n",
              "          element.innerHTML = '';\n",
              "          dataTable['output_type'] = 'display_data';\n",
              "          await google.colab.output.renderOutput(dataTable, element);\n",
              "          const docLink = document.createElement('div');\n",
              "          docLink.innerHTML = docLinkHtml;\n",
              "          element.appendChild(docLink);\n",
              "        }\n",
              "      </script>\n",
              "    </div>\n",
              "  </div>\n",
              "  "
            ]
          },
          "metadata": {},
          "execution_count": 80
        }
      ]
    },
    {
      "cell_type": "code",
      "source": [
        "df_sub.to_csv('submission.csv',index=False)"
      ],
      "metadata": {
        "id": "aOEMuZltOvAZ"
      },
      "execution_count": null,
      "outputs": []
    },
    {
      "cell_type": "code",
      "source": [
        "df_sub=pd.read_csv('submission.csv')"
      ],
      "metadata": {
        "id": "oSzbtPxlP_n2"
      },
      "execution_count": null,
      "outputs": []
    },
    {
      "cell_type": "code",
      "source": [
        "df_sub"
      ],
      "metadata": {
        "colab": {
          "base_uri": "https://localhost:8080/",
          "height": 424
        },
        "id": "2OcS-VEyQSrn",
        "outputId": "df40c330-0d6a-4f80-f4de-920c1f6b766d"
      },
      "execution_count": null,
      "outputs": [
        {
          "output_type": "execute_result",
          "data": {
            "text/plain": [
              "       game_id       rating\n",
              "0            2  2118.558892\n",
              "1            7  1996.659397\n",
              "2           11  1725.711713\n",
              "3           14  1980.814330\n",
              "4           27  2119.878440\n",
              "...        ...          ...\n",
              "22358    72760  2089.616426\n",
              "22359    72761  1665.530239\n",
              "22360    72762  1655.195804\n",
              "22361    72768  2041.186930\n",
              "22362    72769  1831.055778\n",
              "\n",
              "[22363 rows x 2 columns]"
            ],
            "text/html": [
              "\n",
              "  <div id=\"df-446c7eea-4e52-48ca-9724-40dbf57c6530\">\n",
              "    <div class=\"colab-df-container\">\n",
              "      <div>\n",
              "<style scoped>\n",
              "    .dataframe tbody tr th:only-of-type {\n",
              "        vertical-align: middle;\n",
              "    }\n",
              "\n",
              "    .dataframe tbody tr th {\n",
              "        vertical-align: top;\n",
              "    }\n",
              "\n",
              "    .dataframe thead th {\n",
              "        text-align: right;\n",
              "    }\n",
              "</style>\n",
              "<table border=\"1\" class=\"dataframe\">\n",
              "  <thead>\n",
              "    <tr style=\"text-align: right;\">\n",
              "      <th></th>\n",
              "      <th>game_id</th>\n",
              "      <th>rating</th>\n",
              "    </tr>\n",
              "  </thead>\n",
              "  <tbody>\n",
              "    <tr>\n",
              "      <th>0</th>\n",
              "      <td>2</td>\n",
              "      <td>2118.558892</td>\n",
              "    </tr>\n",
              "    <tr>\n",
              "      <th>1</th>\n",
              "      <td>7</td>\n",
              "      <td>1996.659397</td>\n",
              "    </tr>\n",
              "    <tr>\n",
              "      <th>2</th>\n",
              "      <td>11</td>\n",
              "      <td>1725.711713</td>\n",
              "    </tr>\n",
              "    <tr>\n",
              "      <th>3</th>\n",
              "      <td>14</td>\n",
              "      <td>1980.814330</td>\n",
              "    </tr>\n",
              "    <tr>\n",
              "      <th>4</th>\n",
              "      <td>27</td>\n",
              "      <td>2119.878440</td>\n",
              "    </tr>\n",
              "    <tr>\n",
              "      <th>...</th>\n",
              "      <td>...</td>\n",
              "      <td>...</td>\n",
              "    </tr>\n",
              "    <tr>\n",
              "      <th>22358</th>\n",
              "      <td>72760</td>\n",
              "      <td>2089.616426</td>\n",
              "    </tr>\n",
              "    <tr>\n",
              "      <th>22359</th>\n",
              "      <td>72761</td>\n",
              "      <td>1665.530239</td>\n",
              "    </tr>\n",
              "    <tr>\n",
              "      <th>22360</th>\n",
              "      <td>72762</td>\n",
              "      <td>1655.195804</td>\n",
              "    </tr>\n",
              "    <tr>\n",
              "      <th>22361</th>\n",
              "      <td>72768</td>\n",
              "      <td>2041.186930</td>\n",
              "    </tr>\n",
              "    <tr>\n",
              "      <th>22362</th>\n",
              "      <td>72769</td>\n",
              "      <td>1831.055778</td>\n",
              "    </tr>\n",
              "  </tbody>\n",
              "</table>\n",
              "<p>22363 rows × 2 columns</p>\n",
              "</div>\n",
              "      <button class=\"colab-df-convert\" onclick=\"convertToInteractive('df-446c7eea-4e52-48ca-9724-40dbf57c6530')\"\n",
              "              title=\"Convert this dataframe to an interactive table.\"\n",
              "              style=\"display:none;\">\n",
              "        \n",
              "  <svg xmlns=\"http://www.w3.org/2000/svg\" height=\"24px\"viewBox=\"0 0 24 24\"\n",
              "       width=\"24px\">\n",
              "    <path d=\"M0 0h24v24H0V0z\" fill=\"none\"/>\n",
              "    <path d=\"M18.56 5.44l.94 2.06.94-2.06 2.06-.94-2.06-.94-.94-2.06-.94 2.06-2.06.94zm-11 1L8.5 8.5l.94-2.06 2.06-.94-2.06-.94L8.5 2.5l-.94 2.06-2.06.94zm10 10l.94 2.06.94-2.06 2.06-.94-2.06-.94-.94-2.06-.94 2.06-2.06.94z\"/><path d=\"M17.41 7.96l-1.37-1.37c-.4-.4-.92-.59-1.43-.59-.52 0-1.04.2-1.43.59L10.3 9.45l-7.72 7.72c-.78.78-.78 2.05 0 2.83L4 21.41c.39.39.9.59 1.41.59.51 0 1.02-.2 1.41-.59l7.78-7.78 2.81-2.81c.8-.78.8-2.07 0-2.86zM5.41 20L4 18.59l7.72-7.72 1.47 1.35L5.41 20z\"/>\n",
              "  </svg>\n",
              "      </button>\n",
              "      \n",
              "  <style>\n",
              "    .colab-df-container {\n",
              "      display:flex;\n",
              "      flex-wrap:wrap;\n",
              "      gap: 12px;\n",
              "    }\n",
              "\n",
              "    .colab-df-convert {\n",
              "      background-color: #E8F0FE;\n",
              "      border: none;\n",
              "      border-radius: 50%;\n",
              "      cursor: pointer;\n",
              "      display: none;\n",
              "      fill: #1967D2;\n",
              "      height: 32px;\n",
              "      padding: 0 0 0 0;\n",
              "      width: 32px;\n",
              "    }\n",
              "\n",
              "    .colab-df-convert:hover {\n",
              "      background-color: #E2EBFA;\n",
              "      box-shadow: 0px 1px 2px rgba(60, 64, 67, 0.3), 0px 1px 3px 1px rgba(60, 64, 67, 0.15);\n",
              "      fill: #174EA6;\n",
              "    }\n",
              "\n",
              "    [theme=dark] .colab-df-convert {\n",
              "      background-color: #3B4455;\n",
              "      fill: #D2E3FC;\n",
              "    }\n",
              "\n",
              "    [theme=dark] .colab-df-convert:hover {\n",
              "      background-color: #434B5C;\n",
              "      box-shadow: 0px 1px 3px 1px rgba(0, 0, 0, 0.15);\n",
              "      filter: drop-shadow(0px 1px 2px rgba(0, 0, 0, 0.3));\n",
              "      fill: #FFFFFF;\n",
              "    }\n",
              "  </style>\n",
              "\n",
              "      <script>\n",
              "        const buttonEl =\n",
              "          document.querySelector('#df-446c7eea-4e52-48ca-9724-40dbf57c6530 button.colab-df-convert');\n",
              "        buttonEl.style.display =\n",
              "          google.colab.kernel.accessAllowed ? 'block' : 'none';\n",
              "\n",
              "        async function convertToInteractive(key) {\n",
              "          const element = document.querySelector('#df-446c7eea-4e52-48ca-9724-40dbf57c6530');\n",
              "          const dataTable =\n",
              "            await google.colab.kernel.invokeFunction('convertToInteractive',\n",
              "                                                     [key], {});\n",
              "          if (!dataTable) return;\n",
              "\n",
              "          const docLinkHtml = 'Like what you see? Visit the ' +\n",
              "            '<a target=\"_blank\" href=https://colab.research.google.com/notebooks/data_table.ipynb>data table notebook</a>'\n",
              "            + ' to learn more about interactive tables.';\n",
              "          element.innerHTML = '';\n",
              "          dataTable['output_type'] = 'display_data';\n",
              "          await google.colab.output.renderOutput(dataTable, element);\n",
              "          const docLink = document.createElement('div');\n",
              "          docLink.innerHTML = docLinkHtml;\n",
              "          element.appendChild(docLink);\n",
              "        }\n",
              "      </script>\n",
              "    </div>\n",
              "  </div>\n",
              "  "
            ]
          },
          "metadata": {},
          "execution_count": 64
        }
      ]
    },
    {
      "cell_type": "code",
      "source": [],
      "metadata": {
        "id": "l2iFiJtbem0G"
      },
      "execution_count": null,
      "outputs": []
    }
  ]
}